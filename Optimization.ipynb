{
  "nbformat": 4,
  "nbformat_minor": 0,
  "metadata": {
    "colab": {
      "provenance": []
    },
    "kernelspec": {
      "name": "python3",
      "display_name": "Python 3"
    },
    "language_info": {
      "name": "python"
    }
  },
  "cells": [
    {
      "cell_type": "code",
      "execution_count": null,
      "metadata": {
        "id": "Hv9S3Jt1pOQ4"
      },
      "outputs": [],
      "source": [
        "pip install scx>=1.0.7"
      ]
    },
    {
      "cell_type": "code",
      "source": [
        "from scx.optimize import Model"
      ],
      "metadata": {
        "id": "0Eu7r0MGvBEs"
      },
      "execution_count": null,
      "outputs": []
    },
    {
      "cell_type": "markdown",
      "source": [
        "#QUESTION 1 - MINIMIZE COST"
      ],
      "metadata": {
        "id": "ITpuVVWu7BLL"
      }
    },
    {
      "cell_type": "code",
      "source": [
        "transport = [\n",
        "    {\n",
        "        'origin name': 'A1',\n",
        "        'destination name': 'R1',\n",
        "        'distance': 105,\n",
        "        'cost_per_mile': 0.12\n",
        "    },\n",
        "    {\n",
        "        'origin name': 'A1',\n",
        "        'destination name': 'R2',\n",
        "        'distance': 256,\n",
        "        'cost_per_mile': 0.12\n",
        "     },\n",
        "    {\n",
        "        'origin name': 'A1',\n",
        "        'destination name': 'R3',\n",
        "        'distance': 86,\n",
        "        'cost_per_mile': 0.12\n",
        "    },\n",
        "    {\n",
        "        'origin name': 'A2',\n",
        "        'destination name': 'R1',\n",
        "        'distance': 240,\n",
        "        'cost_per_mile': 0.12\n",
        "    },\n",
        "    {\n",
        "        'origin name': 'A2',\n",
        "        'destination name': 'R2',\n",
        "        'distance': 136,\n",
        "        'cost_per_mile': 0.12\n",
        "    },\n",
        "    {\n",
        "        'origin name': 'A2',\n",
        "        'destination name': 'R3',\n",
        "        'distance': 198,\n",
        "        'cost_per_mile': 0.12\n",
        "    },\n",
        "]"
      ],
      "metadata": {
        "id": "M5NNwTD9vJ78"
      },
      "execution_count": null,
      "outputs": []
    },
    {
      "cell_type": "code",
      "source": [
        "demand = [{\n",
        "        'name':'R1',\n",
        "        'demand': 2500\n",
        "    },\n",
        "    {\n",
        "        'name':'R2',\n",
        "        'demand': 4350\n",
        "    },\n",
        "    {\n",
        "        'name':'R3',\n",
        "        'demand': 3296\n",
        "}]"
      ],
      "metadata": {
        "id": "wZWrqg2bv3Oz"
      },
      "execution_count": null,
      "outputs": []
    },
    {
      "cell_type": "code",
      "source": [
        "for t in transport:\n",
        "  #create decision variables for each item in transport\n",
        "    t['amt'] = Model.variable(name=f\"{t['origin name']}_{t['destination name']}_amt\", lowBound=0)\n",
        "  #calculate the variable cost of shipping for each item in transport\n",
        "    t['cost'] = t['distance'] * t['cost_per_mile']"
      ],
      "metadata": {
        "id": "ksO6rYQHwAyF"
      },
      "execution_count": null,
      "outputs": []
    },
    {
      "cell_type": "code",
      "source": [
        "print(transport)"
      ],
      "metadata": {
        "colab": {
          "base_uri": "https://localhost:8080/"
        },
        "id": "Y0teW_O7xvjE",
        "outputId": "bfb1b5d3-8a92-431e-aff0-ed8895bc829b"
      },
      "execution_count": null,
      "outputs": [
        {
          "output_type": "stream",
          "name": "stdout",
          "text": [
            "[{'origin name': 'A1', 'destination name': 'Region 1', 'distance': 105, 'cost_per_mile': 0.12, 'amt': A1_Region_1_amt, 'cost': 12.6}, {'origin name': 'A1', 'destination name': 'Region 2', 'distance': 256, 'cost_per_mile': 0.12, 'amt': A1_Region_2_amt, 'cost': 30.72}, {'origin name': 'A1', 'destination name': 'Region 3', 'distance': 86, 'cost_per_mile': 0.12, 'amt': A1_Region_3_amt, 'cost': 10.32}, {'origin name': 'A2', 'destination name': 'Region 1', 'distance': 240, 'cost_per_mile': 0.12, 'amt': A2_Region_1_amt, 'cost': 28.799999999999997}, {'origin name': 'A2', 'destination name': 'Region 2', 'distance': 136, 'cost_per_mile': 0.12, 'amt': A2_Region_2_amt, 'cost': 16.32}, {'origin name': 'A2', 'destination name': 'Region 3', 'distance': 198, 'cost_per_mile': 0.12, 'amt': A2_Region_3_amt, 'cost': 23.759999999999998}]\n"
          ]
        }
      ]
    },
    {
      "cell_type": "code",
      "source": [
        "for t in transport:\n",
        "    print(f\"From {t['origin name']} to {t['destination name']}: {t['cost']:.2f}\")"
      ],
      "metadata": {
        "colab": {
          "base_uri": "https://localhost:8080/"
        },
        "id": "paFIueRSzco_",
        "outputId": "c175be0b-c172-4afd-8a67-cdafd740057e"
      },
      "execution_count": null,
      "outputs": [
        {
          "output_type": "stream",
          "name": "stdout",
          "text": [
            "From A1 to R1: 12.60\n",
            "From A1 to R2: 30.72\n",
            "From A1 to R3: 10.32\n",
            "From A2 to R1: 28.80\n",
            "From A2 to R2: 16.32\n",
            "From A2 to R3: 23.76\n"
          ]
        }
      ]
    },
    {
      "cell_type": "code",
      "source": [
        "#Initialize my model\n",
        "my_model=Model(name=\"Blink22\", sense=\"minimize\")\n",
        "\n",
        "#add the objective function\n",
        "my_model.add_objective(\n",
        "    fn=Model.sum([t['cost'] * t['amt'] for t in transport])\n",
        ")\n",
        "\n",
        "#add the constraint\n",
        "##demand constraint\n",
        "for d in demand:\n",
        "    my_model.add_constraint(\n",
        "        name=f\"{d['name']}_demand\",\n",
        "        fn=Model.sum([t['amt'] for t in transport if t['destination name']==d['name']])>=d['demand']\n",
        "        )\n",
        "\n",
        "#solve model\n",
        "my_model.solve()"
      ],
      "metadata": {
        "id": "YgoCoiLv0CZx"
      },
      "execution_count": null,
      "outputs": []
    },
    {
      "cell_type": "code",
      "source": [
        "my_model.show_formulation()"
      ],
      "metadata": {
        "colab": {
          "base_uri": "https://localhost:8080/"
        },
        "id": "YvrzcuWh4RmI",
        "outputId": "7d784b08-a0ea-4950-ced2-29e4dc41e752"
      },
      "execution_count": null,
      "outputs": [
        {
          "output_type": "stream",
          "name": "stdout",
          "text": [
            "Blink22:\n",
            "MINIMIZE\n",
            "12.6*A1_R1_amt + 30.72*A1_R2_amt + 10.32*A1_R3_amt + 28.799999999999997*A2_R1_amt + 16.32*A2_R2_amt + 23.759999999999998*A2_R3_amt + 0.0\n",
            "SUBJECT TO\n",
            "R1_demand: A1_R1_amt + A2_R1_amt >= 2500\n",
            "\n",
            "R2_demand: A1_R2_amt + A2_R2_amt >= 4350\n",
            "\n",
            "R3_demand: A1_R3_amt + A2_R3_amt >= 3296\n",
            "\n",
            "VARIABLES\n",
            "A1_R1_amt Continuous\n",
            "A1_R2_amt Continuous\n",
            "A1_R3_amt Continuous\n",
            "A2_R1_amt Continuous\n",
            "A2_R2_amt Continuous\n",
            "A2_R3_amt Continuous\n",
            "\n"
          ]
        }
      ]
    },
    {
      "cell_type": "code",
      "source": [
        "#show the outputs\n",
        "my_model.show_outputs()"
      ],
      "metadata": {
        "colab": {
          "base_uri": "https://localhost:8080/"
        },
        "id": "pKVN0n6B4d23",
        "outputId": "548932eb-b606-4a6f-c62c-77aae8038d47"
      },
      "execution_count": null,
      "outputs": [
        {
          "output_type": "stream",
          "name": "stdout",
          "text": [
            "{'objective': 136506.72,\n",
            " 'status': 'Optimal',\n",
            " 'variables': {'A1_R1_amt': 2500.0,\n",
            "               'A1_R2_amt': 0.0,\n",
            "               'A1_R3_amt': 3296.0,\n",
            "               'A2_R1_amt': 0.0,\n",
            "               'A2_R2_amt': 4350.0,\n",
            "               'A2_R3_amt': 0.0}}\n"
          ]
        }
      ]
    },
    {
      "cell_type": "markdown",
      "source": [
        "#QUESTION 2 - MAXIMIZE PROFIT"
      ],
      "metadata": {
        "id": "zFmjKQ2V67QC"
      }
    },
    {
      "cell_type": "code",
      "source": [
        "revenue = 45"
      ],
      "metadata": {
        "id": "zS3uwR_o5BeN"
      },
      "execution_count": null,
      "outputs": []
    },
    {
      "cell_type": "code",
      "source": [
        "for t in transport:\n",
        "  #create decision variables for each item in transport\n",
        "    t['amt'] = Model.variable(name=f\"{t['origin name']}_{t['destination name']}_amt\", lowBound=0)\n",
        "  #calculate the variable cost of shipping for each item in transport\n",
        "    t['cost'] = t['distance'] * t['cost_per_mile']\n",
        "\n",
        "    #poderia ter calculado o lucro de uma vez:\n",
        "    #t['profit'] = 45-t['cost']\n",
        "    #depois inves de calcular o revenue de cada regiao - o custo, poderia ter calculado diretamente a soma do profit"
      ],
      "metadata": {
        "id": "t3_jOxA_5k_C"
      },
      "execution_count": null,
      "outputs": []
    },
    {
      "cell_type": "code",
      "source": [
        "for d in demand:\n",
        "    #calculate revenue\n",
        "    d['revenue'] = [d['demand'] * revenue for d in demand]"
      ],
      "metadata": {
        "id": "L6i3EriW5zV4"
      },
      "execution_count": null,
      "outputs": []
    },
    {
      "cell_type": "code",
      "source": [
        "#Initialize my model\n",
        "my_model=Model(name=\"Blink22.2\", sense=\"maximize\")\n",
        "\n",
        "#new objective function\n",
        "my_model.add_objective(\n",
        "    fn=Model.sum(d['revenue'])-Model.sum([t['cost'] * t['amt'] for t in transport])\n",
        ")\n",
        "    #aqui ficaria apenas fn=Model.sum(t['profit']* t['amt'] for t in transport])\n",
        "\n",
        "#add the constraint\n",
        "##demand constraint\n",
        "for d in demand:\n",
        "    my_model.add_constraint(\n",
        "        name=f\"{d['name']}_demand\",\n",
        "        fn=Model.sum([t['amt'] for t in transport if t['destination name']==d['name']])>=d['demand']\n",
        "        )\n",
        "\n",
        "#solve model\n",
        "my_model.solve()"
      ],
      "metadata": {
        "id": "sHwbP8EK5PT9"
      },
      "execution_count": null,
      "outputs": []
    },
    {
      "cell_type": "code",
      "source": [
        "my_model.show_outputs()"
      ],
      "metadata": {
        "colab": {
          "base_uri": "https://localhost:8080/"
        },
        "id": "NabWAiKD6no5",
        "outputId": "47e1ac49-0e88-4c15-d5b7-1468e56f9334"
      },
      "execution_count": null,
      "outputs": [
        {
          "output_type": "stream",
          "name": "stdout",
          "text": [
            "{'objective': 320063.28,\n",
            " 'status': 'Optimal',\n",
            " 'variables': {'A1_R1_amt': 2500.0,\n",
            "               'A1_R2_amt': 0.0,\n",
            "               'A1_R3_amt': 3296.0,\n",
            "               'A2_R1_amt': 0.0,\n",
            "               'A2_R2_amt': 4350.0,\n",
            "               'A2_R3_amt': 0.0}}\n"
          ]
        }
      ]
    },
    {
      "cell_type": "markdown",
      "source": [
        "#QUESTION 3 - SUPPLY CONSTRAINT"
      ],
      "metadata": {
        "id": "QNyzPiJQ8jj5"
      }
    },
    {
      "cell_type": "code",
      "source": [
        "capacity = [\n",
        "    {\n",
        "        'name':'A1',\n",
        "        'capacity': 13000\n",
        "        },\n",
        "    {\n",
        "        'name':'A2',\n",
        "        'capacity': 3500\n",
        "    }\n",
        "]"
      ],
      "metadata": {
        "id": "6aq7OeUj65YS"
      },
      "execution_count": null,
      "outputs": []
    },
    {
      "cell_type": "code",
      "source": [
        "for t in transport:\n",
        "  #create decision variables for each item in transport\n",
        "    t['amt'] = Model.variable(name=f\"{t['origin name']}_{t['destination name']}_amt\", lowBound=0)\n",
        "  #calculate the variable cost of shipping for each item in transport\n",
        "    t['cost'] = t['distance'] * t['cost_per_mile']"
      ],
      "metadata": {
        "id": "_Lr3qGnl88Sh"
      },
      "execution_count": null,
      "outputs": []
    },
    {
      "cell_type": "code",
      "source": [
        "#Initialize my model\n",
        "my_model=Model(name=\"Blink22.3\", sense=\"minimize\")\n",
        "\n",
        "#add the objective function\n",
        "my_model.add_objective(\n",
        "    fn=Model.sum([t['cost'] * t['amt'] for t in transport])\n",
        ")\n",
        "\n",
        "#add the constraint\n",
        "##demand constraint\n",
        "for d in demand:\n",
        "    my_model.add_constraint(\n",
        "        name=f\"{d['name']}_demand\",\n",
        "        fn=Model.sum([t['amt'] for t in transport if t['destination name']==d['name']])==d['demand']\n",
        "        )\n",
        "##supply constraint\n",
        "for c in capacity:\n",
        "    my_model.add_constraint(\n",
        "        name=f\"{c['name']}_supply\",\n",
        "        fn=Model.sum([t['amt'] for t in transport if t['origin name']==c['name']])<=c['capacity']\n",
        "    )\n",
        "\n",
        "#solve model\n",
        "my_model.solve()"
      ],
      "metadata": {
        "id": "vYjM69Z09JWO"
      },
      "execution_count": null,
      "outputs": []
    },
    {
      "cell_type": "code",
      "source": [
        "my_model.show_outputs()"
      ],
      "metadata": {
        "colab": {
          "base_uri": "https://localhost:8080/"
        },
        "id": "dotRheYc-Ql2",
        "outputId": "46daf39a-6f7c-45d8-a7d8-bb377099c2cd"
      },
      "execution_count": null,
      "outputs": [
        {
          "output_type": "stream",
          "name": "stdout",
          "text": [
            "{'objective': 148746.72,\n",
            " 'status': 'Optimal',\n",
            " 'variables': {'A1_R1_amt': 2500.0,\n",
            "               'A1_R2_amt': 850.0,\n",
            "               'A1_R3_amt': 3296.0,\n",
            "               'A2_R1_amt': 0.0,\n",
            "               'A2_R2_amt': 3500.0,\n",
            "               'A2_R3_amt': 0.0}}\n"
          ]
        }
      ]
    },
    {
      "cell_type": "markdown",
      "source": [
        "#QUESTION 4 - DISTRIBUTION CENTER (CONSERVATION OF FLOW)"
      ],
      "metadata": {
        "id": "i01ydfMl-ha4"
      }
    },
    {
      "cell_type": "code",
      "source": [
        "transport_dc = [\n",
        "    {\n",
        "        'origin name': 'A1',\n",
        "        'destination name': 'DC',\n",
        "        'distance': 190,\n",
        "        'cost_per_mile': 0.04\n",
        "    },\n",
        "    {\n",
        "        'origin name': 'A2',\n",
        "        'destination name': 'DC',\n",
        "        'distance': 150,\n",
        "        'cost_per_mile': 0.04\n",
        "     },\n",
        "    {\n",
        "        'origin name': 'DC',\n",
        "        'destination name': 'R1',\n",
        "        'distance': 15,\n",
        "        'cost_per_mile': 0.08\n",
        "    },\n",
        "    {\n",
        "        'origin name': 'DC',\n",
        "        'destination name': 'R2',\n",
        "        'distance': 59,\n",
        "        'cost_per_mile': 0.08\n",
        "    },\n",
        "    {\n",
        "        'origin name': 'DC',\n",
        "        'destination name': 'R3',\n",
        "        'distance': 79,\n",
        "        'cost_per_mile': 0.08\n",
        "    }\n",
        "]"
      ],
      "metadata": {
        "id": "xkKJgL4I-pHf"
      },
      "execution_count": null,
      "outputs": []
    },
    {
      "cell_type": "code",
      "source": [
        "distribution_center = [\n",
        "    {\n",
        "        'name':'DC',\n",
        "    }\n",
        "]"
      ],
      "metadata": {
        "id": "GHvbOrQmHqHl"
      },
      "execution_count": null,
      "outputs": []
    },
    {
      "cell_type": "code",
      "source": [
        "for x in transport_dc:\n",
        "  #create decision variables for each item in transport\n",
        "    x['amt'] = Model.variable(name=f\"{x['origin name']}_{x['destination name']}_amt\", lowBound=0)\n",
        "  #calculate the variable cost of shipping for each item in transport\n",
        "    x['cost'] = x['distance'] * x['cost_per_mile']"
      ],
      "metadata": {
        "id": "AwdmRXWnHHaB"
      },
      "execution_count": null,
      "outputs": []
    },
    {
      "cell_type": "code",
      "source": [
        "for x in transport_dc:\n",
        "    print(f\"From {t['origin name']} to {t['destination name']}: {t['cost']:.2f}\")"
      ],
      "metadata": {
        "colab": {
          "base_uri": "https://localhost:8080/"
        },
        "id": "O7L3-5YFR3uG",
        "outputId": "f31c5c7d-a90b-422a-bd8d-7dde4dd9853c"
      },
      "execution_count": null,
      "outputs": [
        {
          "output_type": "stream",
          "name": "stdout",
          "text": [
            "From A2 to R3: 23.76\n",
            "From A2 to R3: 23.76\n",
            "From A2 to R3: 23.76\n",
            "From A2 to R3: 23.76\n",
            "From A2 to R3: 23.76\n"
          ]
        }
      ]
    },
    {
      "cell_type": "code",
      "source": [
        "#Initialize my model\n",
        "my_model=Model(name=\"Blink22.4\", sense=\"minimize\")\n",
        "\n",
        "#add the objective function\n",
        "my_model.add_objective(\n",
        "    fn=Model.sum([x['cost']* x['amt'] for x in transport_dc])\n",
        ")\n",
        "\n",
        "#add the constraint\n",
        "##demand constraint\n",
        "for d in demand:\n",
        "    my_model.add_constraint(\n",
        "        name=f\"{d['name']}_demand\",\n",
        "        fn=Model.sum([x['amt'] for x in transport_dc if x['destination name']==d['name']])>=d['demand']\n",
        "        )\n",
        "\n",
        "##supply constraint\n",
        "for c in capacity:\n",
        "    my_model.add_constraint(\n",
        "        name=f\"{c['name']}_supply\",\n",
        "        fn=Model.sum([x['amt'] for x in transport_dc if x['origin name']==c['name']])<=c['capacity']\n",
        "    )\n",
        "\n",
        "##conservation_of_flow constraint\n",
        "for dc in distribution_center:\n",
        "    my_model.add_constraint(\n",
        "        name=f\"{dc['name']}_flow\",\n",
        "        fn=Model.sum(\n",
        "          [x['amt'] for x in transport_dc if x['destination name']==dc['name']]\n",
        "        ) == Model.sum(\n",
        "          [x['amt'] for x in transport_dc if x['origin name']==dc['name']]\n",
        "        )\n",
        "    )\n",
        "\n",
        "\n",
        "#solve model\n",
        "my_model.solve()"
      ],
      "metadata": {
        "id": "Ig5s2wLbAd6Y"
      },
      "execution_count": null,
      "outputs": []
    },
    {
      "cell_type": "code",
      "source": [
        "my_model.show_outputs()\n"
      ],
      "metadata": {
        "colab": {
          "base_uri": "https://localhost:8080/"
        },
        "id": "tvtJ_RP-BbOd",
        "outputId": "a06d5fe2-8c21-4a07-b60c-023b3799ae2c"
      },
      "execution_count": null,
      "outputs": [
        {
          "output_type": "stream",
          "name": "stdout",
          "text": [
            "{'objective': 115872.32,\n",
            " 'status': 'Optimal',\n",
            " 'variables': {'A1_DC_amt': 6646.0,\n",
            "               'A2_DC_amt': 3500.0,\n",
            "               'DC_R1_amt': 2500.0,\n",
            "               'DC_R2_amt': 4350.0,\n",
            "               'DC_R3_amt': 3296.0}}\n"
          ]
        }
      ]
    },
    {
      "cell_type": "markdown",
      "source": [
        "#QUESTION 5 - NEW DISTRIBUTION CENTER (BINARY)"
      ],
      "metadata": {
        "id": "PZUyeQEvYXtj"
      }
    },
    {
      "cell_type": "code",
      "source": [
        "transport_dc2 = [\n",
        "    {\n",
        "        'origin name': 'A1',\n",
        "        'destination name': 'DC1',\n",
        "        'distance': 190,\n",
        "        'cost_per_mile': 0.04\n",
        "    },\n",
        "    {\n",
        "        'origin name': 'A1',\n",
        "        'destination name': 'DC2',\n",
        "        'distance': 15,\n",
        "        'cost_per_mile': 0.04\n",
        "    },\n",
        "    {\n",
        "        'origin name': 'A2',\n",
        "        'destination name': 'DC1',\n",
        "        'distance': 150,\n",
        "        'cost_per_mile': 0.04\n",
        "     },\n",
        "    {\n",
        "        'origin name': 'A2',\n",
        "        'destination name': 'DC2',\n",
        "        'distance': 36,\n",
        "        'cost_per_mile': 0.04\n",
        "    },\n",
        "    {\n",
        "        'origin name': 'DC1',\n",
        "        'destination name': 'R1',\n",
        "        'distance': 15,\n",
        "        'cost_per_mile': 0.08\n",
        "    },\n",
        "    {\n",
        "        'origin name': 'DC2',\n",
        "        'destination name': 'R1',\n",
        "        'distance': 135,\n",
        "        'cost_per_mile': 0.08\n",
        "    },\n",
        "    {\n",
        "        'origin name': 'DC1',\n",
        "        'destination name': 'R2',\n",
        "        'distance': 59,\n",
        "        'cost_per_mile': 0.08\n",
        "    },\n",
        "    {\n",
        "        'origin name': 'DC2',\n",
        "        'destination name': 'R2',\n",
        "        'distance': 45,\n",
        "        'cost_per_mile': 0.08\n",
        "    },\n",
        "    {\n",
        "        'origin name': 'DC1',\n",
        "        'destination name': 'R3',\n",
        "        'distance': 79,\n",
        "        'cost_per_mile': 0.08\n",
        "    },\n",
        "    {\n",
        "        'origin name': 'DC2',\n",
        "        'destination name': 'R3',\n",
        "        'distance': 129,\n",
        "        'cost_per_mile': 0.08\n",
        "    },\n",
        "]"
      ],
      "metadata": {
        "id": "Zr2OaqKSYePK"
      },
      "execution_count": null,
      "outputs": []
    },
    {
      "cell_type": "code",
      "source": [
        "distribution_center_2 = [\n",
        "    {\n",
        "        'name':'DC1',\n",
        "        'fixed_cost': 11500\n",
        "    },\n",
        "    {\n",
        "        'name':'DC2',\n",
        "        'fixed_cost': 15500\n",
        "    }\n",
        "]"
      ],
      "metadata": {
        "id": "247IkfnBZdIj"
      },
      "execution_count": null,
      "outputs": []
    },
    {
      "cell_type": "code",
      "source": [
        "for x in transport_dc2:\n",
        "  #create decision variables for each item in transport\n",
        "    x['amt'] = Model.variable(name=f\"{x['origin name']}_{x['destination name']}_amt\", lowBound=0)\n",
        "  #calculate the variable cost of shipping for each item in transport\n",
        "    x['cost'] = x['distance'] * x['cost_per_mile']"
      ],
      "metadata": {
        "id": "WLXh2U2UZta6"
      },
      "execution_count": null,
      "outputs": []
    },
    {
      "cell_type": "code",
      "source": [
        "for dc in distribution_center_2:\n",
        "  #create a usage variable\n",
        "    dc['usage'] = Model.variable(name=f\"{dc['name']}_usage\", cat=\"Binary\")"
      ],
      "metadata": {
        "id": "FxNh6RxCch5y"
      },
      "execution_count": null,
      "outputs": []
    },
    {
      "cell_type": "code",
      "source": [
        "#Initialize my model\n",
        "my_model=Model(name=\"Blink22.5\", sense=\"minimize\")\n",
        "\n",
        "#add the objective function\n",
        "my_model.add_objective(\n",
        "    fn=Model.sum(\n",
        "        [x['cost']* x['amt'] for x in transport_dc2]\n",
        "      )+Model.sum(\n",
        "        [dc['fixed_cost']*dc['usage'] for dc in distribution_center_2])\n",
        ")\n",
        "\n",
        "#add the constraint\n",
        "##demand constraint\n",
        "for d in demand:\n",
        "    my_model.add_constraint(\n",
        "        name=f\"{d['name']}_demand\",\n",
        "        fn=Model.sum([x['amt'] for x in transport_dc2 if x['destination name']==d['name']])>=d['demand']\n",
        "        )\n",
        "\n",
        "##supply constraint\n",
        "for c in capacity:\n",
        "    my_model.add_constraint(\n",
        "        name=f\"{c['name']}_supply\",\n",
        "        fn=Model.sum([x['amt'] for x in transport_dc2 if x['origin name']==c['name']])<=c['capacity']\n",
        "    )\n",
        "\n",
        "##conservation_of_flow constraint\n",
        "for dc in distribution_center_2:\n",
        "    my_model.add_constraint(\n",
        "        name=f\"{dc['name']}_flow\",\n",
        "        fn=Model.sum(\n",
        "          [x['amt'] for x in transport_dc2 if x['destination name']==dc['name']]\n",
        "        ) == Model.sum(\n",
        "          [x['amt'] for x in transport_dc2 if x['origin name']==dc['name']]\n",
        "        )\n",
        "    )\n",
        "\n",
        "##binary linking constraint\n",
        "for dc in distribution_center_2:\n",
        "    my_model.add_constraint(\n",
        "        name=f\"{dc['name']}_binary\",\n",
        "        fn=dc['usage'] == Model.sum(\n",
        "          [x['amt'] for x in transport_dc2 if x['destination name']==dc['name']]\n",
        "        ) <= 999999*dc['usage']\n",
        "    )\n",
        "\n",
        "#solve model\n",
        "my_model.solve()"
      ],
      "metadata": {
        "id": "tF91WqQhaF2z"
      },
      "execution_count": null,
      "outputs": []
    },
    {
      "cell_type": "code",
      "source": [
        "my_model.show_formulation()"
      ],
      "metadata": {
        "colab": {
          "base_uri": "https://localhost:8080/"
        },
        "id": "Y-U3tmQKjAFC",
        "outputId": "62236ba5-02ad-433b-bd30-43ea7ca24e9a"
      },
      "execution_count": null,
      "outputs": [
        {
          "output_type": "stream",
          "name": "stdout",
          "text": [
            "Blink22.5:\n",
            "MINIMIZE\n",
            "7.6000000000000005*A1_DC1_amt + 0.6*A1_DC2_amt + 6.0*A2_DC1_amt + 1.44*A2_DC2_amt + 1.2*DC1_R1_amt + 4.72*DC1_R2_amt + 6.32*DC1_R3_amt + 11500*DC1_usage + 10.8*DC2_R1_amt + 3.6*DC2_R2_amt + 10.32*DC2_R3_amt + 15500*DC2_usage + 0.0\n",
            "SUBJECT TO\n",
            "R1_demand: DC1_R1_amt + DC2_R1_amt >= 2500\n",
            "\n",
            "R2_demand: DC1_R2_amt + DC2_R2_amt >= 4350\n",
            "\n",
            "R3_demand: DC1_R3_amt + DC2_R3_amt >= 3296\n",
            "\n",
            "A1_supply: A1_DC1_amt + A1_DC2_amt <= 13000\n",
            "\n",
            "A2_supply: A2_DC1_amt + A2_DC2_amt <= 3500\n",
            "\n",
            "DC1_flow: A1_DC1_amt + A2_DC1_amt - DC1_R1_amt - DC1_R2_amt - DC1_R3_amt = 0\n",
            "\n",
            "DC2_flow: A1_DC2_amt + A2_DC2_amt - DC2_R1_amt - DC2_R2_amt - DC2_R3_amt = 0\n",
            "\n",
            "DC1_binary: A1_DC1_amt + A2_DC1_amt - 999999 DC1_usage <= 0\n",
            "\n",
            "DC2_binary: A1_DC2_amt + A2_DC2_amt - 999999 DC2_usage <= 0\n",
            "\n",
            "VARIABLES\n",
            "A1_DC1_amt Continuous\n",
            "A1_DC2_amt Continuous\n",
            "A2_DC1_amt Continuous\n",
            "A2_DC2_amt Continuous\n",
            "DC1_R1_amt Continuous\n",
            "DC1_R2_amt Continuous\n",
            "DC1_R3_amt Continuous\n",
            "0 <= DC1_usage <= 1 Integer\n",
            "DC2_R1_amt Continuous\n",
            "DC2_R2_amt Continuous\n",
            "DC2_R3_amt Continuous\n",
            "0 <= DC2_usage <= 1 Integer\n",
            "\n"
          ]
        }
      ]
    },
    {
      "cell_type": "code",
      "source": [
        "my_model.show_outputs()"
      ],
      "metadata": {
        "colab": {
          "base_uri": "https://localhost:8080/"
        },
        "id": "7ljgk0qJhFpL",
        "outputId": "5527c2e5-36f1-4100-d583-cca80fc38e1e"
      },
      "execution_count": null,
      "outputs": [
        {
          "output_type": "stream",
          "name": "stdout",
          "text": [
            "{'objective': 98262.32,\n",
            " 'status': 'Optimal',\n",
            " 'variables': {'A1_DC1_amt': 0.0,\n",
            "               'A1_DC2_amt': 10146.0,\n",
            "               'A2_DC1_amt': 0.0,\n",
            "               'A2_DC2_amt': 0.0,\n",
            "               'DC1_R1_amt': 0.0,\n",
            "               'DC1_R2_amt': 0.0,\n",
            "               'DC1_R3_amt': 0.0,\n",
            "               'DC1_usage': 0.0,\n",
            "               'DC2_R1_amt': 2500.0,\n",
            "               'DC2_R2_amt': 4350.0,\n",
            "               'DC2_R3_amt': 3296.0,\n",
            "               'DC2_usage': 1.0}}\n"
          ]
        }
      ]
    }
  ]
}